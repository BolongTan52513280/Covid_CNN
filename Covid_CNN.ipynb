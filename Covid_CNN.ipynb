{
  "cells": [
    {
      "cell_type": "markdown",
      "metadata": {
        "id": "MOFy1eono2hk"
      },
      "source": [
        "# Data preprocess"
      ]
    },
    {
      "cell_type": "code",
      "execution_count": 1,
      "metadata": {
        "id": "xCojfS9OkYDy"
      },
      "outputs": [],
      "source": [
        "from tensorflow.keras.models import Sequential\n",
        "from tensorflow.keras.layers import Activation, Dropout, Flatten, Dense, Conv2D, MaxPooling2D\n",
        "from tensorflow.keras.callbacks import EarlyStopping\n",
        "from sklearn.metrics import plot_confusion_matrix\n",
        "import numpy as np # linear algebra\n",
        "import pandas as pd # data processing, CSV file I/O (e.g. pd.read_csv)\n",
        "from __future__ import division\n",
        "from __future__ import print_function\n",
        "from sklearn.metrics import accuracy_score\n",
        "from sklearn.metrics import f1_score\n",
        "import os\n",
        "from PIL import Image\n",
        "import numpy as np\n",
        "from scipy import misc\n",
        "import random\n",
        "import shutil\n",
        "import matplotlib\n",
        "import matplotlib.pyplot as plt\n",
        "import tensorflow as tf\n",
        "import numpy as np \n",
        "import tensorflow as tf \n",
        "from tensorflow import keras \n",
        "from tensorflow.keras.models import Sequential \n",
        "from tensorflow.keras.layers import Activation, Dense, Flatten, Flatten, BatchNormalization, Conv2D, MaxPool2D \n",
        "from tensorflow.keras.optimizers import Adam\n",
        "from tensorflow.keras.metrics import categorical_crossentropy\n",
        "#from tensorflow.keras.preprocessing.image import ImageDataGenerator\n",
        "#from sklearn.metrics import confusion_matrix\n",
        "import warnings \n",
        "warnings.simplefilter(action = 'ignore',category = FutureWarning)\n",
        "%matplotlib inline \n",
        "import tensorflow\n",
        "import cv2 \n",
        "from keras.preprocessing.image import ImageDataGenerator\n",
        "import matplotlib.pyplot as plt\n",
        "\n",
        "from numpy.random import seed\n",
        "seed(13)\n",
        "#from tensorflow import set_random_seed\n",
        "#set_random_seed(2)"
      ]
    },
    {
      "cell_type": "code",
      "execution_count": 2,
      "metadata": {
        "colab": {
          "base_uri": "https://localhost:8080/"
        },
        "id": "hvRbZ8k_oY2Y",
        "outputId": "e028cf23-7048-403a-f57a-06fec4f0151d"
      },
      "outputs": [
        {
          "output_type": "stream",
          "name": "stdout",
          "text": [
            "Mounted at /content/drive\n"
          ]
        }
      ],
      "source": [
        "import pandas as pd\n",
        "from google.colab import drive\n",
        "drive.mount('/content/drive')"
      ]
    },
    {
      "cell_type": "code",
      "execution_count": 3,
      "metadata": {
        "id": "RzmN4I6aozOz"
      },
      "outputs": [],
      "source": [
        "image_gen = ImageDataGenerator(rotation_range=23, # rotate the image 20 degrees\n",
        "                               width_shift_range=0.10, # Shift the pic width by a max of 5%\n",
        "                               height_shift_range=0.10, # Shift the pic height by a max of 5%\n",
        "                               rescale=1/255, # Rescale the image by normalzing it.\n",
        "                               shear_range=0.1, # Shear means cutting away part of the image (max 10%)\n",
        "                               zoom_range=0.1, # Zoom in by 10% max\n",
        "                               horizontal_flip=True, # Allo horizontal flipping\n",
        "                               fill_mode='nearest' # Fill in missing pixels with the nearest filled value\n",
        "                              )"
      ]
    },
    {
      "cell_type": "markdown",
      "metadata": {
        "id": "4JfHr4Cio9AM"
      },
      "source": [
        "# set up CNN model\n"
      ]
    },
    {
      "cell_type": "code",
      "execution_count": 4,
      "metadata": {
        "colab": {
          "base_uri": "https://localhost:8080/",
          "height": 747
        },
        "id": "8Y164y0tqVbH",
        "outputId": "c3a26da9-61a9-4452-efdd-3b3f66b7fc53"
      },
      "outputs": [
        {
          "output_type": "stream",
          "name": "stdout",
          "text": [
            "Model: \"sequential\"\n",
            "_________________________________________________________________\n",
            " Layer (type)                Output Shape              Param #   \n",
            "=================================================================\n",
            " conv2d (Conv2D)             (None, 998, 998, 64)      1792      \n",
            "                                                                 \n",
            " max_pooling2d (MaxPooling2D  (None, 499, 499, 64)     0         \n",
            " )                                                               \n",
            "                                                                 \n",
            " conv2d_1 (Conv2D)           (None, 497, 497, 32)      18464     \n",
            "                                                                 \n",
            " max_pooling2d_1 (MaxPooling  (None, 248, 248, 32)     0         \n",
            " 2D)                                                             \n",
            "                                                                 \n",
            " conv2d_2 (Conv2D)           (None, 246, 246, 64)      18496     \n",
            "                                                                 \n",
            " max_pooling2d_2 (MaxPooling  (None, 123, 123, 64)     0         \n",
            " 2D)                                                             \n",
            "                                                                 \n",
            " flatten (Flatten)           (None, 968256)            0         \n",
            "                                                                 \n",
            " dense (Dense)               (None, 64)                61968448  \n",
            "                                                                 \n",
            " dense_1 (Dense)             (None, 32)                2080      \n",
            "                                                                 \n",
            " activation (Activation)     (None, 32)                0         \n",
            "                                                                 \n",
            " dropout (Dropout)           (None, 32)                0         \n",
            "                                                                 \n",
            " dense_2 (Dense)             (None, 1)                 33        \n",
            "                                                                 \n",
            " activation_1 (Activation)   (None, 1)                 0         \n",
            "                                                                 \n",
            "=================================================================\n",
            "Total params: 62,009,313\n",
            "Trainable params: 62,009,313\n",
            "Non-trainable params: 0\n",
            "_________________________________________________________________\n"
          ]
        },
        {
          "output_type": "execute_result",
          "data": {
            "text/plain": [
              "\"\\n#model5.      0%     loss: 7.7125 - accuracy: 0.5000 - val_loss: 7.7125 - val_accuracy: 0.5000\\nmodel = Sequential()\\nimage_shape = (1000,1000,3)\\nmodel.add(Conv2D(filters=6, kernel_size=(3,3),input_shape=image_shape, activation='relu',))\\nmodel.add(MaxPooling2D(pool_size=(2, 2)))\\nmodel.add(Flatten())\\nmodel.add(Dense(1))\\nmodel.add(Activation('relu'))\\nmodel.compile(loss='binary_crossentropy',\\n              optimizer='adam',\\n              metrics=['accuracy'])\\nmodel.summary()\\n\""
            ],
            "application/vnd.google.colaboratory.intrinsic+json": {
              "type": "string"
            }
          },
          "metadata": {},
          "execution_count": 4
        }
      ],
      "source": [
        "\n",
        "\n",
        "#model 4   98.6%.  71s 6s/step - loss: 0.4466 - accuracy: 0.7770 - val_loss: 0.3815 - val_accuracy: 0.8243\n",
        "model = Sequential()\n",
        "image_shape = (1000,1000,3)\n",
        "model.add(Conv2D(filters=64, kernel_size=(3,3),input_shape=image_shape, activation='relu',))\n",
        "model.add(MaxPooling2D(pool_size=(2, 2)))\n",
        "model.add(Conv2D(filters=32, kernel_size=(3,3),input_shape=image_shape, activation='relu',))\n",
        "model.add(MaxPooling2D(pool_size=(2, 2)))\n",
        "model.add(Conv2D(filters=64, kernel_size=(3,3),input_shape=image_shape, activation='relu',))\n",
        "model.add(MaxPooling2D(pool_size=(2, 2)))\n",
        "model.add(Flatten())\n",
        "model.add(Dense(64))\n",
        "model.add(Dense(32))\n",
        "model.add(Activation('relu'))\n",
        "model.add(Dropout(0.4))\n",
        "model.add(Dense(1))\n",
        "model.add(Activation('sigmoid'))\n",
        "model.compile(loss='binary_crossentropy',\n",
        "              optimizer='adam',\n",
        "              metrics=['accuracy'])\n",
        "model.summary()\n",
        "\n",
        "\n",
        "'''\n",
        "#model 3        69s 6s/step - loss: 0.3948 - accuracy: 0.8041 - val_loss: 0.3418 - val_accuracy: 0.8581\n",
        "#accuracy is 1.0\n",
        "#f1 score is 1.0\n",
        "model = Sequential()\n",
        "image_shape = (1000,1000,3)\n",
        "model.add(Conv2D(filters=64, kernel_size=(3,3),input_shape=image_shape, activation='relu',))\n",
        "model.add(MaxPooling2D(pool_size=(2, 2)))\n",
        "model.add(Conv2D(filters=32, kernel_size=(3,3),input_shape=image_shape, activation='relu',))\n",
        "model.add(MaxPooling2D(pool_size=(2, 2)))\n",
        "model.add(Flatten())\n",
        "model.add(Dense(32))\n",
        "model.add(Activation('relu'))\n",
        "model.add(Dropout(0.2))\n",
        "model.add(Dense(1))\n",
        "model.add(Activation('sigmoid'))\n",
        "\n",
        "model.compile(optimizer = Adam(learning_rate = 0.0001),loss='binary_crossentropy',\n",
        "              metrics=['accuracy'])\n",
        "model.summary()\n",
        "'''\n",
        "\n",
        "'''\n",
        "#model2      674s 6s/step - loss: 0.7063 - accuracy: 0.8243 - val_loss: 0.3134 - val_accuracy: 0.8784\n",
        "#accuracy is 0.975\n",
        "#f1 score is 0.9743589743589743\n",
        "\n",
        "model = Sequential()\n",
        "image_shape = (1000,1000,3)\n",
        "model.add(Conv2D(filters=32, kernel_size=(3,3),input_shape=image_shape, activation='relu',))\n",
        "model.add(MaxPooling2D(pool_size=(2, 2)))\n",
        "model.add(Flatten())\n",
        "model.add(Dense(32))\n",
        "model.add(Activation('relu'))\n",
        "model.add(Dropout(0.1))\n",
        "model.add(Dense(1))\n",
        "model.add(Activation('sigmoid'))\n",
        "model.compile(optimizer = Adam(learning_rate = 0.0001),loss='binary_crossentropy',\n",
        "              metrics=['accuracy'])\n",
        "model.summary()\n",
        "\n",
        "\n",
        "'''\n",
        "'''\n",
        "\n",
        "#model1.    \n",
        "\n",
        "#accuracy is 0.825\n",
        "#f1 score is 0.8\n",
        "model = Sequential()\n",
        "image_shape = (1000,1000,3)\n",
        "model.add(Conv2D(filters=6, kernel_size=(3,3),input_shape=image_shape, activation='relu',))\n",
        "model.add(MaxPooling2D(pool_size=(2, 2)))\n",
        "model.add(Flatten())\n",
        "model.add(Dense(1))\n",
        "model.add(Activation('sigmoid'))\n",
        "model.compile(loss='binary_crossentropy',\n",
        "              optimizer='adam',\n",
        "              metrics=['accuracy'])\n",
        "model.summary()\n",
        "\n",
        "\n",
        "'''\n",
        "'''\n",
        "#model5.      0%     loss: 7.7125 - accuracy: 0.5000 - val_loss: 7.7125 - val_accuracy: 0.5000\n",
        "model = Sequential()\n",
        "image_shape = (1000,1000,3)\n",
        "model.add(Conv2D(filters=6, kernel_size=(3,3),input_shape=image_shape, activation='relu',))\n",
        "model.add(MaxPooling2D(pool_size=(2, 2)))\n",
        "model.add(Flatten())\n",
        "model.add(Dense(1))\n",
        "model.add(Activation('relu'))\n",
        "model.compile(loss='binary_crossentropy',\n",
        "              optimizer='adam',\n",
        "              metrics=['accuracy'])\n",
        "model.summary()\n",
        "'''"
      ]
    },
    {
      "cell_type": "code",
      "execution_count": 5,
      "metadata": {
        "colab": {
          "base_uri": "https://localhost:8080/"
        },
        "id": "tUmHaoQmEuce",
        "outputId": "a6de3461-72e6-4099-d388-c3d0f1fdd51a"
      },
      "outputs": [
        {
          "output_type": "stream",
          "name": "stdout",
          "text": [
            "Found 148 images belonging to 2 classes.\n",
            "Found 148 images belonging to 2 classes.\n",
            "Found 40 images belonging to 2 classes.\n"
          ]
        }
      ],
      "source": [
        "batch_size = 13\n",
        "train='/content/drive/My Drive/CNN_final project/xray/train'\n",
        "train_set = image_gen.flow_from_directory(train,\n",
        "                                               target_size=image_shape[:2],\n",
        "                                                color_mode='rgb',\n",
        "                                               batch_size=batch_size,\n",
        "                                               class_mode='binary')\n",
        "\n",
        "valid='/content/drive/My Drive/CNN_final project/xray/valid'\n",
        "valid_set = image_gen.flow_from_directory(train,\n",
        "                                               target_size=image_shape[:2],\n",
        "                                                color_mode='rgb',\n",
        "                                               batch_size=batch_size,\n",
        "                                               class_mode='binary')\n",
        "\n",
        "\n",
        "test='/content/drive/My Drive/CNN_final project/xray/test'\n",
        "test_set = image_gen.flow_from_directory(test,\n",
        "                                               target_size=image_shape[:2],\n",
        "                                               color_mode='rgb',\n",
        "                                               batch_size=batch_size,\n",
        "                                              class_mode='binary',shuffle=False)\n"
      ]
    },
    {
      "cell_type": "code",
      "execution_count": 6,
      "metadata": {
        "id": "pXYnF01eq6Q9"
      },
      "outputs": [],
      "source": [
        "from tensorflow.keras.callbacks import EarlyStopping\n",
        "stop = EarlyStopping(monitor='val_loss',patience=2)"
      ]
    },
    {
      "cell_type": "code",
      "execution_count": 7,
      "metadata": {
        "colab": {
          "base_uri": "https://localhost:8080/"
        },
        "id": "8SAk5_snrTlJ",
        "outputId": "6f877965-7e8c-41d7-ee3d-e094cc0bcaed"
      },
      "outputs": [
        {
          "output_type": "stream",
          "name": "stdout",
          "text": [
            "Epoch 1/13\n",
            "12/12 [==============================] - 149s 12s/step - loss: 4.9689 - accuracy: 0.5000 - val_loss: 0.8060 - val_accuracy: 0.5000\n",
            "Epoch 2/13\n",
            "12/12 [==============================] - 70s 6s/step - loss: 0.7198 - accuracy: 0.5811 - val_loss: 0.5206 - val_accuracy: 0.8311\n",
            "Epoch 3/13\n",
            "12/12 [==============================] - 70s 6s/step - loss: 0.6190 - accuracy: 0.6622 - val_loss: 0.5101 - val_accuracy: 0.8378\n",
            "Epoch 4/13\n",
            "12/12 [==============================] - 71s 6s/step - loss: 0.5167 - accuracy: 0.7297 - val_loss: 0.3870 - val_accuracy: 0.8716\n",
            "Epoch 5/13\n",
            "12/12 [==============================] - 70s 6s/step - loss: 0.5682 - accuracy: 0.6892 - val_loss: 0.4562 - val_accuracy: 0.8581\n",
            "Epoch 6/13\n",
            "12/12 [==============================] - 69s 6s/step - loss: 0.5614 - accuracy: 0.6216 - val_loss: 0.5010 - val_accuracy: 0.8919\n"
          ]
        }
      ],
      "source": [
        "results = model.fit(train_set,epochs=13,\n",
        "                              validation_data=valid_set,callbacks=[stop])"
      ]
    },
    {
      "cell_type": "code",
      "execution_count": 8,
      "metadata": {
        "colab": {
          "base_uri": "https://localhost:8080/",
          "height": 282
        },
        "id": "Qijb0HmU11Qt",
        "outputId": "977bd4c3-a105-4d49-ae0b-fa0729be958a"
      },
      "outputs": [
        {
          "output_type": "execute_result",
          "data": {
            "text/plain": [
              "<matplotlib.legend.Legend at 0x7fda7c3415b0>"
            ]
          },
          "metadata": {},
          "execution_count": 8
        },
        {
          "output_type": "display_data",
          "data": {
            "text/plain": [
              "<Figure size 432x288 with 1 Axes>"
            ],
            "image/png": "[encoded data removed]"
          },
          "metadata": {
            "needs_background": "light"
          }
        }
      ],
      "source": [
        "plt.plot(results.history['loss'])\n",
        "plt.plot(results.history['val_loss'])\n",
        "plt.legend(['train_loss','validation_loss'],loc='upper right')"
      ]
    },
    {
      "cell_type": "code",
      "execution_count": 9,
      "metadata": {
        "colab": {
          "base_uri": "https://localhost:8080/",
          "height": 282
        },
        "id": "DrpSVpeF2iwo",
        "outputId": "86a8b99a-0586-4202-ee48-5dc066f568b7"
      },
      "outputs": [
        {
          "output_type": "execute_result",
          "data": {
            "text/plain": [
              "<matplotlib.legend.Legend at 0x7fda7c0d9580>"
            ]
          },
          "metadata": {},
          "execution_count": 9
        },
        {
          "output_type": "display_data",
          "data": {
            "text/plain": [
              "<Figure size 432x288 with 1 Axes>"
            ],
            "image/png": "[encoded data removed]"
          },
          "metadata": {
            "needs_background": "light"
          }
        }
      ],
      "source": [
        "plt.plot(results.history['accuracy'])\n",
        "plt.plot(results.history['val_accuracy'])\n",
        "plt.legend(['train_accuracy','validation_accuracy'],loc='upper right')"
      ]
    },
    {
      "cell_type": "markdown",
      "metadata": {
        "id": "iwimr7QRH8yy"
      },
      "source": [
        "# Test "
      ]
    },
    {
      "cell_type": "code",
      "execution_count": 10,
      "metadata": {
        "colab": {
          "base_uri": "https://localhost:8080/"
        },
        "id": "eDA3dAx8IAkq",
        "outputId": "c0d180b2-ca6b-4471-f310-0f530474cfa9"
      },
      "outputs": [
        {
          "output_type": "execute_result",
          "data": {
            "text/plain": [
              "array([[0.26274887],\n",
              "       [0.37736884],\n",
              "       [0.30375165],\n",
              "       [0.35570022],\n",
              "       [0.42268455],\n",
              "       [0.44984004],\n",
              "       [0.3130298 ],\n",
              "       [0.29355478],\n",
              "       [0.30407026],\n",
              "       [0.31396466],\n",
              "       [0.35734725],\n",
              "       [0.2946832 ],\n",
              "       [0.40370023],\n",
              "       [0.26420295],\n",
              "       [0.3487903 ],\n",
              "       [0.30935782],\n",
              "       [0.34720945],\n",
              "       [0.24407148],\n",
              "       [0.28562865],\n",
              "       [0.40032414],\n",
              "       [0.63714325],\n",
              "       [0.73026323],\n",
              "       [0.6347198 ],\n",
              "       [0.5777601 ],\n",
              "       [0.648047  ],\n",
              "       [0.62696916],\n",
              "       [0.74954236],\n",
              "       [0.8474005 ],\n",
              "       [0.62591034],\n",
              "       [0.59933347],\n",
              "       [0.6232917 ],\n",
              "       [0.8914758 ],\n",
              "       [0.7714575 ],\n",
              "       [0.58025086],\n",
              "       [0.47197363],\n",
              "       [0.5140103 ],\n",
              "       [0.5920984 ],\n",
              "       [0.4723021 ],\n",
              "       [0.5477906 ],\n",
              "       [0.56202054]], dtype=float32)"
            ]
          },
          "metadata": {},
          "execution_count": 10
        }
      ],
      "source": [
        "predictions = model.predict(x=test_set, verbose = 0 )  \n",
        "predictions\n"
      ]
    },
    {
      "cell_type": "code",
      "execution_count": 11,
      "metadata": {
        "colab": {
          "base_uri": "https://localhost:8080/"
        },
        "id": "LXmNVTlqZbnr",
        "outputId": "f82a4445-5f28-40df-d984-f28218e0e225"
      },
      "outputs": [
        {
          "output_type": "stream",
          "name": "stdout",
          "text": [
            "[[0.]\n",
            " [0.]\n",
            " [0.]\n",
            " [0.]\n",
            " [0.]\n",
            " [0.]\n",
            " [0.]\n",
            " [0.]\n",
            " [0.]\n",
            " [0.]\n",
            " [0.]\n",
            " [0.]\n",
            " [0.]\n",
            " [0.]\n",
            " [0.]\n",
            " [0.]\n",
            " [0.]\n",
            " [0.]\n",
            " [0.]\n",
            " [0.]\n",
            " [1.]\n",
            " [1.]\n",
            " [1.]\n",
            " [1.]\n",
            " [1.]\n",
            " [1.]\n",
            " [1.]\n",
            " [1.]\n",
            " [1.]\n",
            " [1.]\n",
            " [1.]\n",
            " [1.]\n",
            " [1.]\n",
            " [1.]\n",
            " [0.]\n",
            " [1.]\n",
            " [1.]\n",
            " [0.]\n",
            " [1.]\n",
            " [1.]]\n"
          ]
        }
      ],
      "source": [
        "print(np.round(predictions))"
      ]
    },
    {
      "cell_type": "code",
      "execution_count": 12,
      "metadata": {
        "colab": {
          "base_uri": "https://localhost:8080/"
        },
        "id": "LwKtMDmjMRQU",
        "outputId": "6285f07e-e0e5-4659-b339-cc56ddd6ed39"
      },
      "outputs": [
        {
          "output_type": "execute_result",
          "data": {
            "text/plain": [
              "array([0, 0, 0, 0, 0, 0, 0, 0, 0, 0, 0, 0, 0, 0, 0, 0, 0, 0, 0, 0, 1, 1,\n",
              "       1, 1, 1, 1, 1, 1, 1, 1, 1, 1, 1, 1, 1, 1, 1, 1, 1, 1], dtype=int32)"
            ]
          },
          "metadata": {},
          "execution_count": 12
        }
      ],
      "source": [
        "test_set.classes"
      ]
    },
    {
      "cell_type": "code",
      "execution_count": 14,
      "metadata": {
        "colab": {
          "base_uri": "https://localhost:8080/"
        },
        "id": "ot75NELyIZaX",
        "outputId": "7e688cc2-e096-41a0-bb60-717b5355949b"
      },
      "outputs": [
        {
          "output_type": "stream",
          "name": "stdout",
          "text": [
            "accuracy is 0.95\n",
            "f1 score is 0.9473684210526316\n"
          ]
        }
      ],
      "source": [
        "\n",
        "accuracy = accuracy_score(y_true=test_set.classes, y_pred = predictions.round(), normalize=True, sample_weight=None)\n",
        "print(\"accuracy is\", accuracy) #???????\n",
        "\n",
        "f1 = f1_score(test_set.classes, predictions.round())\n",
        "print(\"f1 score is\", f1)"
      ]
    }
  ],
  "metadata": {
    "accelerator": "GPU",
    "colab": {
      "machine_shape": "hm",
      "provenance": []
    },
    "gpuClass": "premium",
    "kernelspec": {
      "display_name": "Python 3",
      "name": "python3"
    },
    "language_info": {
      "name": "python"
    }
  },
  "nbformat": 4,
  "nbformat_minor": 0
}